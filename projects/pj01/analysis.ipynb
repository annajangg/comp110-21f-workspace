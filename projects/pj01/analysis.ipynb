{
 "cells": [
  {
   "cell_type": "markdown",
   "metadata": {},
   "source": [
    "# PJ01: Class Experiment"
   ]
  },
  {
   "cell_type": "code",
   "execution_count": 46,
   "metadata": {},
   "outputs": [],
   "source": [
    "__author__ = \"730411065\"\n",
    "\n",
    "%reload_ext autoreload\n",
    "%autoreload 2\n",
    "\n",
    "DATA_DIRECTORY=\"../../data\"\n",
    "DATA_FILE_PATH=f\"{DATA_DIRECTORY}/survey.csv\""
   ]
  },
  {
   "cell_type": "markdown",
   "metadata": {},
   "source": [
    "## Question:\n",
    "If students spend more time interacting with digital technology for work/school use, do they spend less time interacting with digital technology for personal usage?\n",
    "\n",
    "\n",
    "## Hypothesis: \n",
    "I think that the more hours students use interacting with digital technology for work/school purposes, the less time they spend for personal use, and vice versa."
   ]
  },
  {
   "cell_type": "markdown",
   "metadata": {},
   "source": [
    "### Step 1:\n",
    "Make the data into a list[dict]."
   ]
  },
  {
   "cell_type": "code",
   "execution_count": 47,
   "metadata": {},
   "outputs": [
    {
     "name": "stdout",
     "output_type": "stream",
     "text": [
      "573 responses\n",
      "36 columns\n"
     ]
    }
   ],
   "source": [
    "from data_utils import read_csv_rows\n",
    "data_rows: list[dict[str, str]] = read_csv_rows(DATA_FILE_PATH)\n",
    "\n",
    "print(f\"{len(data_rows)} responses\")\n",
    "print(f\"{len(data_rows[0].keys())} columns\")"
   ]
  },
  {
   "cell_type": "markdown",
   "metadata": {},
   "source": [
    "### Step 2:\n",
    "Make into columnar so that we can make table to see just the top few responses. Then we will see the first two rows:"
   ]
  },
  {
   "cell_type": "code",
   "execution_count": 48,
   "metadata": {},
   "outputs": [
    {
     "data": {
      "text/html": [
       "<table>\n",
       "<thead>\n",
       "<tr><th>hours_online_social  </th><th>hours_online_work  </th></tr>\n",
       "</thead>\n",
       "<tbody>\n",
       "<tr><td>3 to 5 hours         </td><td>3 to 5 hours       </td></tr>\n",
       "<tr><td>5 to 10 hours        </td><td>5 to 10 hours      </td></tr>\n",
       "<tr><td>3 to 5 hours         </td><td>5 to 10 hours      </td></tr>\n",
       "</tbody>\n",
       "</table>"
      ],
      "text/plain": [
       "'<table>\\n<thead>\\n<tr><th>hours_online_social  </th><th>hours_online_work  </th></tr>\\n</thead>\\n<tbody>\\n<tr><td>3 to 5 hours         </td><td>3 to 5 hours       </td></tr>\\n<tr><td>5 to 10 hours        </td><td>5 to 10 hours      </td></tr>\\n<tr><td>3 to 5 hours         </td><td>5 to 10 hours      </td></tr>\\n</tbody>\\n</table>'"
      ]
     },
     "execution_count": 48,
     "metadata": {},
     "output_type": "execute_result"
    }
   ],
   "source": [
    "from data_utils import columnar\n",
    "from data_utils import head\n",
    "from data_utils import select\n",
    "from tabulate import tabulate\n",
    "\n",
    "data_cols: dict[str, list[str]] = columnar(data_rows)\n",
    "selected_data: dict[str, list[str]] = select(data_cols, [\"hours_online_work\", \"hours_online_social\"])\n",
    "\n",
    "tabulate(head(selected_data, 3), selected_data.keys(), \"html\")"
   ]
  },
  {
   "cell_type": "markdown",
   "metadata": {},
   "source": [
    "### Step 3:\n",
    "Make the `hours_online_social` and `hours_online_work` into its specific columns."
   ]
  },
  {
   "cell_type": "code",
   "execution_count": 74,
   "metadata": {},
   "outputs": [],
   "source": [
    "from data_utils import column_values\n",
    "\n",
    "work_hours: list[str] = column_values(data_rows, \"hours_online_work\")\n",
    "play_hours: list[str] = column_values(data_rows, \"hours_online_social\")\n"
   ]
  },
  {
   "cell_type": "markdown",
   "metadata": {},
   "source": [
    "### Step 4:\n",
    "Because our question is asking if spending more hours online for work affects the hours students spend online for socializing, we will compare the total number of peoeple in a set parameter of work hours (which I will set as less than 5 (<5) hours or more than 5 (>5) hours) to the corresponding times they spend socializing online.\n",
    "\n",
    "Therefore, I print out the number of people who gave a response (the pool of data) and then print out how many of those people spends >5 hours online for work."
   ]
  },
  {
   "cell_type": "code",
   "execution_count": 82,
   "metadata": {},
   "outputs": [
    {
     "name": "stdout",
     "output_type": "stream",
     "text": [
      "Number of people who answered for 'hours_online_work': 573\n",
      "Number of people that picked an option of 'hours_online_work' more than 5 hours: 285\n"
     ]
    }
   ],
   "source": [
    "from data_utils import count\n",
    "from data_utils import count_up\n",
    "from data_utils import count_down\n",
    "\n",
    "print(f\"Number of people who answered for 'hours_online_work': {len(work_hours)}\")\n",
    "print(f\"Number of people that picked an option of 'hours_online_work' more than 5 hours: {count_up(work_hours)}\")\n",
    "# print(f\"Number of people that picked each option of how many hours online spent on work/school: {count(work_hours)}\")\n"
   ]
  },
  {
   "cell_type": "markdown",
   "metadata": {},
   "source": [
    "Knowing this, we can then move on to see how many students in the number of people who spend >5 hours online for work also spend <5 hours online for socializing.\n",
    "\n",
    "To do this, I have made a function `up_indexed` that I use to filter through `work_hours` to make a list of the indices in which the values were above 5 hours (so `5-10 hours`, `1-+ hours`). Then I use another function called `specified_hours` to use that list of indices filtered from the `work_hours` list and applying that to the `play_hours` list to make a new list of the social hours options that corresponded to the filtered work hours. \n",
    "\n",
    "Simplified, this was the long way around to access the corresponding social hours that students who spends >5 hours chose."
   ]
  },
  {
   "cell_type": "code",
   "execution_count": 81,
   "metadata": {},
   "outputs": [
    {
     "name": "stdout",
     "output_type": "stream",
     "text": [
      "Number of people who was on online for <5 hours for social purposes given that they were online for >5 for work purposes: 214\n",
      "Number of people who was on online for >5 hours for social purpose given that they were online for >5 for work purposes: 71\n"
     ]
    }
   ],
   "source": [
    "from data_utils import down_indexed\n",
    "from data_utils import up_indexed\n",
    "from data_utils import specified_hours\n",
    "from data_utils import count_down\n",
    "from data_utils import count_up\n",
    "\n",
    "up_work_index_list: list = up_indexed(work_hours)\n",
    "list_of_up_specific_social_hours: list = specified_hours(play_hours, up_work_index_list)\n",
    "\n",
    "print(f\"Number of people who was on online for <5 hours for social purposes given that they were online for >5 for work purposes: {count_down(list_of_up_specific_social_hours)}\")\n",
    "print(f\"Number of people who was on online for >5 hours for social purpose given that they were online for >5 for work purposes: {count_up(list_of_up_specific_social_hours)}\")\n"
   ]
  },
  {
   "cell_type": "markdown",
   "metadata": {},
   "source": [
    "### Step 5:\n",
    "We have gotten all our information:\n",
    "\n",
    "\n",
    "total number of people who responded: 573\n",
    "\n",
    "out of 573, people who spend more than 5 hours for work: 285\n",
    "\n",
    "\n",
    "out of 285, people who spend less than 5 hours for social: 214\n",
    "\n",
    "\n",
    "out of 285, people who spend more than 5 hours for social: 71\n",
    "\n",
    "\n",
    "Now that we know the numbers, let's make some visuals to see it better."
   ]
  },
  {
   "cell_type": "code",
   "execution_count": 85,
   "metadata": {},
   "outputs": [
    {
     "data": {
      "text/plain": [
       "<AxesSubplot:>"
      ]
     },
     "execution_count": 85,
     "metadata": {},
     "output_type": "execute_result"
    },
    {
     "data": {
      "image/png": "[encoded data removed]",
      "text/plain": [
       "<Figure size 432x288 with 1 Axes>"
      ]
     },
     "metadata": {},
     "output_type": "display_data"
    }
   ],
   "source": [
    "import seaborn\n",
    "\n",
    "seaborn.barplot(x=[\"total\", \">5 work\", \"<5 social|>5 work\", \">5 social|>5 work\"], y=[573, 285, 214,71])\n"
   ]
  },
  {
   "cell_type": "markdown",
   "metadata": {},
   "source": [
    "From this visual and the numbers, we can see that there is a much higher percentage of people who spend less than 5 hours online for social purposes given that there are  than those who still spend more than 5 hours online for social purposes."
   ]
  },
  {
   "cell_type": "markdown",
   "metadata": {},
   "source": [
    "## Conclusion:\n",
    "\n",
    "Therefore, my hypothesis was correct. The people who spend more than 5 hours online for work mostly spend less than 5 hours online for social purposes."
   ]
  },
  {
   "cell_type": "markdown",
   "metadata": {},
   "source": [
    "## Extra:\n",
    "The bottom code goes through the same process but with those who spend less than 5 hours on work hours."
   ]
  },
  {
   "cell_type": "code",
   "execution_count": 87,
   "metadata": {},
   "outputs": [
    {
     "name": "stdout",
     "output_type": "stream",
     "text": [
      "Number of people who answered for 'hours_online_work': 573\n",
      "Number of people that picked an option of 'hours_online_work' less than 5 hours: 282\n",
      "Number of people who was on online for <5 hours for social purposes given that they were online for <5 for work purposes: 213\n",
      "Number of people who was on online for >5 hours for social purpose given that they were online for <5 for work purposes: 69\n"
     ]
    },
    {
     "data": {
      "text/plain": [
       "<AxesSubplot:>"
      ]
     },
     "execution_count": 87,
     "metadata": {},
     "output_type": "execute_result"
    },
    {
     "data": {
      "image/png": "[encoded data removed]",
      "text/plain": [
       "<Figure size 432x288 with 1 Axes>"
      ]
     },
     "metadata": {},
     "output_type": "display_data"
    }
   ],
   "source": [
    "# opposite\n",
    "from data_utils import count\n",
    "from data_utils import count_up\n",
    "from data_utils import count_down\n",
    "from data_utils import down_indexed\n",
    "from data_utils import up_indexed\n",
    "from data_utils import specified_hours\n",
    "\n",
    "print(f\"Number of people who answered for 'hours_online_work': {len(work_hours)}\")\n",
    "print(f\"Number of people that picked an option of 'hours_online_work' less than 5 hours: {count_down(work_hours)}\")\n",
    "# print(f\"Number of people that picked each option of how many hours online spent on work/school: {count(work_hours)}\")\n",
    "\n",
    "down_work_index_list: list = down_indexed(work_hours)\n",
    "list_of_down_specific_social_hours: list = specified_hours(play_hours, down_work_index_list)\n",
    "# print(list_of_specified_social_hours)\n",
    "\n",
    "print(f\"Number of people who was on online for <5 hours for social purposes given that they were online for <5 for work purposes: {count_down(list_of_down_specific_social_hours)}\")\n",
    "print(f\"Number of people who was on online for >5 hours for social purpose given that they were online for <5 for work purposes: {count_up(list_of_down_specific_social_hours)}\")\n",
    "\n",
    "import seaborn\n",
    "\n",
    "seaborn.barplot(x=[\"total\", \"<5 work\", \"<5 social|<5 work\", \">5 social|<5 work\"], y=[573, 282, 213,69])\n"
   ]
  },
  {
   "cell_type": "markdown",
   "metadata": {},
   "source": [
    "From the extra work, we can conclude that students who spend less than 5 hours online for work mostly also spend less than 5 hours online for socializing. \n",
    "This somewhat contradicts the logic of the conclusion I got from the pool of students who spent more than 5 hours online for work. Hmmmmmmm"
   ]
  }
 ],
 "metadata": {
  "interpreter": {
   "hash": "aee8b7b246df8f9039afb4144a1f6fd8d2ca17a180786b69acc140d282b71a49"
  },
  "kernelspec": {
   "display_name": "Python 3.9.6 64-bit",
   "name": "python3"
  },
  "language_info": {
   "codemirror_mode": {
    "name": "ipython",
    "version": 3
   },
   "file_extension": ".py",
   "mimetype": "text/x-python",
   "name": "python",
   "nbconvert_exporter": "python",
   "pygments_lexer": "ipython3",
   "version": "3.9.6"
  },
  "orig_nbformat": 4
 },
 "nbformat": 4,
 "nbformat_minor": 2
}
